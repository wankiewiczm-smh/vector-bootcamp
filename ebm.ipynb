{
 "cells": [
  {
   "cell_type": "code",
   "execution_count": 39,
   "id": "3fa3a463",
   "metadata": {},
   "outputs": [
    {
     "name": "stdout",
     "output_type": "stream",
     "text": [
      "  'ICD-9-CM CODE' 'CCS LVL 1'                  'CCS LVL 1 LABEL' 'CCS LVL 2'  \\\n",
      "0         '01000'         '1'  Infectious and parasitic diseases       '1.1'   \n",
      "1         '01001'         '1'  Infectious and parasitic diseases       '1.1'   \n",
      "2         '01002'         '1'  Infectious and parasitic diseases       '1.1'   \n",
      "3         '01003'         '1'  Infectious and parasitic diseases       '1.1'   \n",
      "4         '01004'         '1'  Infectious and parasitic diseases       '1.1'   \n",
      "\n",
      "     'CCS LVL 2 LABEL' 'CCS LVL 3'  'CCS LVL 3 LABEL' 'CCS LVL 4'  \\\n",
      "0  Bacterial infection     '1.1.1'  Tuberculosis [1.]         ' '   \n",
      "1  Bacterial infection     '1.1.1'  Tuberculosis [1.]         ' '   \n",
      "2  Bacterial infection     '1.1.1'  Tuberculosis [1.]         ' '   \n",
      "3  Bacterial infection     '1.1.1'  Tuberculosis [1.]         ' '   \n",
      "4  Bacterial infection     '1.1.1'  Tuberculosis [1.]         ' '   \n",
      "\n",
      "  'CCS LVL 4 LABEL'  \n",
      "0                    \n",
      "1                    \n",
      "2                    \n",
      "3                    \n",
      "4                    \n"
     ]
    }
   ],
   "source": [
    "import pandas as pd \n",
    "import cleaning\n",
    "from collections import defaultdict\n",
    "diabetes = pd.read_csv(\"./data/diabetic_data.csv\")\n",
    "ccs_mapping = pd.read_csv(\"./data/ccs_multi_dx_tool_2015.csv\", dtype = str)\n",
    "diabetes = cleaning.load_and_clean(diabetes)\n",
    "\n",
    "print(ccs_mapping.head())"
   ]
  },
  {
   "cell_type": "code",
   "execution_count": 40,
   "id": "36139569",
   "metadata": {},
   "outputs": [
    {
     "name": "stdout",
     "output_type": "stream",
     "text": [
      "0    250.83\n",
      "1       276\n",
      "2       648\n",
      "3         8\n",
      "4       197\n",
      "Name: diag_1, dtype: object\n"
     ]
    }
   ],
   "source": [
    "print(df['diag_1'].head())"
   ]
  },
  {
   "cell_type": "code",
   "execution_count": null,
   "id": "0ec16df8",
   "metadata": {},
   "outputs": [],
   "source": [
    "df = diabetes\n",
    "\n",
    "ccs_mapping = pd.read_csv(\"./data/ccs_multi_dx_tool_2015.csv\", dtype = str)\n",
    "# Clean CCS mapping column names and values\n",
    "ccs_mapping.columns = ccs_mapping.columns.str.strip(\"'\").str.strip()\n",
    "ccs_mapping = ccs_mapping.rename(columns={\n",
    "    \"ICD-9-CM CODE\": \"icd9_code\",\n",
    "    \"CCS LVL 1\": \"ccs_level_1\",\n",
    "    \"CCS LVL 1 LABEL\": \"ccs_description\"\n",
    "})\n",
    "ccs_mapping[\"icd9_code\"] = ccs_mapping[\"icd9_code\"].str.strip(\"'\").str.strip()\n",
    "# Step 1: Remove dots from ICD-9 codes\n",
    "for col in [\"diag_1\", \"diag_2\", \"diag_3\"]:\n",
    "    df[f\"{col}_clean\"] = df[col].str.replace(\".\", \"\", regex=False)\n",
    "\n",
    "# Step 2: Build prefix-based lookup table for fallback matching\n",
    "prefix_map = defaultdict(lambda: None)\n",
    "for code, desc in zip(ccs_mapping[\"icd9_code\"], ccs_mapping[\"ccs_description\"]):\n",
    "    for i in range(1, len(code) + 1):  # Use prefixes starting at 3 digits\n",
    "        prefix = code[:i]\n",
    "        if prefix not in prefix_map:\n",
    "            prefix_map[prefix] = desc\n",
    "\n",
    "# Step 3: Matching function using longest prefix available\n",
    "def map_icd_to_ccs(code):\n",
    "    if pd.isna(code):\n",
    "        return None\n",
    "    for i in range(len(code), 2, -1):\n",
    "        prefix = code[:i]\n",
    "        if prefix in prefix_map:\n",
    "            return prefix_map[prefix]\n",
    "    return None\n",
    "\n",
    "# Step 4: Map each diagnosis column to CCS group using prefix match\n",
    "for col in [\"diag_1_clean\", \"diag_2_clean\", \"diag_3_clean\"]:\n",
    "    df[col.replace(\"_clean\", \"_ccs\")] = df[col].map(map_icd_to_ccs)"
   ]
  },
  {
   "cell_type": "code",
   "execution_count": 46,
   "id": "bf8dd13d",
   "metadata": {},
   "outputs": [
    {
     "name": "stdout",
     "output_type": "stream",
     "text": [
      "  diag_1_clean                                         diag_1_ccs\n",
      "0        25083  Endocrine; nutritional; and metabolic diseases...\n",
      "1          276  Endocrine; nutritional; and metabolic diseases...\n",
      "2          648                                     Mental Illness\n",
      "3            8                                               None\n",
      "4          197                                          Neoplasms\n"
     ]
    }
   ],
   "source": [
    "print(df[['diag_1_clean', 'diag_1_ccs']].head())"
   ]
  }
 ],
 "metadata": {
  "kernelspec": {
   "display_name": "Python 3",
   "language": "python",
   "name": "python3"
  },
  "language_info": {
   "codemirror_mode": {
    "name": "ipython",
    "version": 3
   },
   "file_extension": ".py",
   "mimetype": "text/x-python",
   "name": "python",
   "nbconvert_exporter": "python",
   "pygments_lexer": "ipython3",
   "version": "3.12.0"
  }
 },
 "nbformat": 4,
 "nbformat_minor": 5
}
