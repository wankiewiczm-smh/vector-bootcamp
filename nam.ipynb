{
 "cells": [
  {
   "cell_type": "code",
   "execution_count": 8,
   "id": "db5f4ada",
   "metadata": {},
   "outputs": [],
   "source": [
    "import os\n",
    "import random\n",
    "import torch\n",
    "import pickle\n",
    "import matplotlib.pyplot as plt\n",
    "import pandas as pd\n",
    "from sklearn.preprocessing import StandardScaler, OneHotEncoder\n",
    "from sklearn.model_selection import train_test_split\n",
    "from sklearn.compose import ColumnTransformer\n",
    "from dnamite.models import DNAMiteBinaryClassifier, DNAMiteRegressor\n",
    "from sklearn.metrics import roc_auc_score, confusion_matrix,  ConfusionMatrixDisplay, mean_squared_error, r2_score\n",
    "from collections import defaultdict\n",
    "import cleaning\n",
    "\n",
    "df = pd.read_csv(\"./data/diabetic_data.csv\")\n",
    "ccs_mapping = pd.read_csv(\"./data/ccs_multi_dx_tool_2015.csv\", dtype = str)\n",
    "df = cleaning.load_and_clean(df)"
   ]
  },
  {
   "cell_type": "code",
   "execution_count": 9,
   "id": "3a8c661b",
   "metadata": {},
   "outputs": [],
   "source": [
    "# Map CCS groups\n",
    "ccs_mapping = pd.read_csv(\"./data/ccs_multi_dx_tool_2015.csv\", dtype = str)\n",
    "# Clean CCS mapping column names and values\n",
    "ccs_mapping.columns = ccs_mapping.columns.str.strip(\"'\").str.strip()\n",
    "ccs_mapping = ccs_mapping.rename(columns={\n",
    "    \"ICD-9-CM CODE\": \"icd9_code\",\n",
    "    \"CCS LVL 1\": \"ccs_level_1\",\n",
    "    \"CCS LVL 1 LABEL\": \"ccs_description\"\n",
    "})\n",
    "ccs_mapping[\"icd9_code\"] = ccs_mapping[\"icd9_code\"].str.strip(\"'\").str.strip()\n",
    "# SRemove dots from ICD-9 codes\n",
    "for col in [\"diag_1\", \"diag_2\", \"diag_3\"]:\n",
    "    df[f\"{col}_clean\"] = df[col].str.replace(\".\", \"\", regex=False)\n",
    "\n",
    "# Build prefix-based lookup table for fallback matching\n",
    "prefix_map = defaultdict(lambda: None)\n",
    "for code, desc in zip(ccs_mapping[\"icd9_code\"], ccs_mapping[\"ccs_description\"]):\n",
    "    for i in range(3, len(code) + 1):  # Use prefixes starting at 3 digits\n",
    "        prefix = code[:i]\n",
    "        if prefix not in prefix_map:\n",
    "            prefix_map[prefix] = desc\n",
    "\n",
    "# Matching function using longest prefix available\n",
    "def map_icd_to_ccs(code):\n",
    "    if pd.isna(code):\n",
    "        return None\n",
    "    for i in range(len(code), 2, -1):\n",
    "        prefix = code[:i]\n",
    "        if prefix in prefix_map:\n",
    "            return prefix_map[prefix]\n",
    "    return None\n",
    "\n",
    "# Map each diagnosis column to CCS group using prefix match\n",
    "for col in [\"diag_1_clean\", \"diag_2_clean\", \"diag_3_clean\"]:\n",
    "    df[col.replace(\"_clean\", \"_ccs\")] = df[col].map(map_icd_to_ccs)\n",
    "\n",
    "df = df.drop(['diag_1', 'diag_2', 'diag_3', 'diag_1_clean', 'diag_2_clean', 'diag_3_clean'], axis = 1)"
   ]
  },
  {
   "cell_type": "code",
   "execution_count": 34,
   "id": "4e857f14",
   "metadata": {},
   "outputs": [
    {
     "name": "stdout",
     "output_type": "stream",
     "text": [
      "Categorical Features: ['race', 'max_glu_serum', 'A1Cresult', 'metformin', 'repaglinide', 'nateglinide', 'chlorpropamide', 'glimepiride', 'acetohexamide', 'glipizide', 'glyburide', 'tolbutamide', 'pioglitazone', 'rosiglitazone', 'acarbose', 'miglitol', 'troglitazone', 'tolazamide', 'examide', 'citoglipton', 'insulin', 'glyburide-metformin', 'glipizide-metformin', 'glimepiride-pioglitazone', 'metformin-rosiglitazone', 'metformin-pioglitazone', 'change', 'diabetesMed', 'diag_1_ccs', 'diag_2_ccs', 'diag_3_ccs']\n",
      "Numerical Features: ['age', 'admission_type_id', 'discharge_disposition_id', 'admission_source_id', 'time_in_hospital', 'num_lab_procedures', 'num_procedures', 'num_medications', 'number_outpatient', 'number_emergency', 'number_inpatient', 'number_diagnoses', 'total_previous_visits', 'readmit30', 'female']\n",
      "Index(['race', 'age', 'admission_type_id', 'discharge_disposition_id',\n",
      "       'admission_source_id', 'time_in_hospital', 'num_lab_procedures',\n",
      "       'num_procedures', 'num_medications', 'number_outpatient',\n",
      "       'number_emergency', 'number_inpatient', 'number_diagnoses',\n",
      "       'max_glu_serum', 'A1Cresult', 'metformin', 'repaglinide', 'nateglinide',\n",
      "       'chlorpropamide', 'glimepiride', 'acetohexamide', 'glipizide',\n",
      "       'glyburide', 'tolbutamide', 'pioglitazone', 'rosiglitazone', 'acarbose',\n",
      "       'miglitol', 'troglitazone', 'tolazamide', 'examide', 'citoglipton',\n",
      "       'insulin', 'glyburide-metformin', 'glipizide-metformin',\n",
      "       'glimepiride-pioglitazone', 'metformin-rosiglitazone',\n",
      "       'metformin-pioglitazone', 'change', 'diabetesMed',\n",
      "       'total_previous_visits', 'readmit30', 'female', 'diag_1_ccs',\n",
      "       'diag_2_ccs', 'diag_3_ccs'],\n",
      "      dtype='object')\n"
     ]
    }
   ],
   "source": [
    "# Automatically determine categorical and numerical features\n",
    "categorical_features = df.select_dtypes(include=[\"object\", \"category\"]).columns.tolist()\n",
    "numerical_features = df.select_dtypes(include=[\"number\"]).columns.tolist()\n",
    "\n",
    "print(\"Categorical Features:\", categorical_features)\n",
    "print(\"Numerical Features:\", numerical_features)\n",
    "\n",
    "\n",
    "# Remove the target variable (if included in the dataset)\n",
    "target_variable = \"readmit30\"\n",
    "# categorical_features.remove(target_variable)\n",
    "    \n",
    "# Define the ColumnTransformer\n",
    "one_hot_encoder = OneHotEncoder(sparse_output=False)\n",
    "scaler = StandardScaler()\n",
    "\n",
    "preprocessor = ColumnTransformer(\n",
    "    transformers=[\n",
    "        (\"num\", scaler, numerical_features),   # Scale numerical features\n",
    "        (\"cat\", one_hot_encoder, categorical_features)  # One-hot encode categorical features\n",
    "    ]\n",
    ")\n",
    "\n",
    "print(df.columns)\n",
    "\n",
    "# Separate features and target\n",
    "X = df.drop([target_variable], axis=1)\n",
    "y = df[target_variable]\n",
    "\n",
    "X = df[['race', 'age', 'admission_type_id', 'discharge_disposition_id', 'admission_source_id', 'time_in_hospital', \n",
    "        'num_lab_procedures', 'num_procedures', 'num_medications', 'number_emergency', 'number_inpatient', 'number_diagnoses',\n",
    "        'max_glu_serum', 'A1Cresult', 'change', 'diabetesMed', 'total_previous_visits', 'female', 'diag_1_ccs', 'diag_2_ccs', 'diag_3_ccs']]\n",
    "# Split the data into training and test sets\n",
    "X_train, X_test, y_train, y_test = train_test_split(X, y, test_size=0.2, stratify=y, random_state=42)"
   ]
  },
  {
   "cell_type": "code",
   "execution_count": 35,
   "id": "629657f9",
   "metadata": {},
   "outputs": [
    {
     "name": "stdout",
     "output_type": "stream",
     "text": [
      "(80091, 21)\n"
     ]
    }
   ],
   "source": [
    "print(X_train.shape)"
   ]
  },
  {
   "cell_type": "code",
   "execution_count": 36,
   "id": "7aae41f0",
   "metadata": {},
   "outputs": [],
   "source": [
    "device = torch.device(\"cuda\" if torch.cuda.is_available() else \"cpu\")\n",
    "model_bc = DNAMiteBinaryClassifier(\n",
    "    device=device,\n",
    "    random_state=34\n",
    ")\n",
    "model_bc.fit(X_train, y_train)"
   ]
  },
  {
   "cell_type": "code",
   "execution_count": null,
   "id": "fadd2a55",
   "metadata": {},
   "outputs": [],
   "source": [
    "#Predict outputs\n",
    "outputs_bc = model_bc.predict_proba(X_test)\n",
    "predicted_bc = outputs_bc > 0.5\n",
    "\n",
    "#Calculate accuracy\n",
    "total = y_test.shape[0]\n",
    "correct_bc = (predicted_bc == y_test).sum().item()\n",
    "accuracy_bc = correct_bc / total\n",
    "\n",
    "print('Accuracy for simple binary classification: ', accuracy_bc)\n",
    "\n",
    "print('\\n')\n",
    "#Calculate AUC score\n",
    "roc_auc_bc = roc_auc_score(y_test, outputs_bc)\n",
    "print('ROC AUC for simple binary classification:', roc_auc_bc)\n",
    "\n",
    "conf_mat_bc = confusion_matrix(y_test, predicted_bc)\n",
    "\n",
    "# Plot confusion matrix\n",
    "fig, ax = plt.subplots(1, 2)\n",
    "ax[0].set_title(\"Simple Binary Classification\")\n",
    "ConfusionMatrixDisplay(confusion_matrix=conf_mat_bc).plot(cmap='Blues', values_format='d', ax=ax[0])\n",
    "plt.tight_layout()\n",
    "plt.show()"
   ]
  }
 ],
 "metadata": {
  "kernelspec": {
   "display_name": "Python 3",
   "language": "python",
   "name": "python3"
  },
  "language_info": {
   "codemirror_mode": {
    "name": "ipython",
    "version": 3
   },
   "file_extension": ".py",
   "mimetype": "text/x-python",
   "name": "python",
   "nbconvert_exporter": "python",
   "pygments_lexer": "ipython3",
   "version": "3.12.0"
  }
 },
 "nbformat": 4,
 "nbformat_minor": 5
}
